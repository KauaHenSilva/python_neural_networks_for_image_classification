{
  "nbformat": 4,
  "nbformat_minor": 0,
  "metadata": {
    "colab": {
      "provenance": [],
      "gpuType": "T4",
      "authorship_tag": "ABX9TyO/lJLhSGvyCHpS/Yw/DCDV",
      "include_colab_link": true
    },
    "kernelspec": {
      "name": "python3",
      "display_name": "Python 3"
    },
    "language_info": {
      "name": "python"
    },
    "accelerator": "GPU"
  },
  "cells": [
    {
      "cell_type": "markdown",
      "metadata": {
        "id": "view-in-github",
        "colab_type": "text"
      },
      "source": [
        "<a href=\"https://colab.research.google.com/github/KauaHenSilva/python_neural_networks_for_image_classification/blob/main/python_neural_networks_for_image_classification.ipynb\" target=\"_parent\"><img src=\"https://colab.research.google.com/assets/colab-badge.svg\" alt=\"Open In Colab\"/></a>"
      ]
    },
    {
      "cell_type": "markdown",
      "source": [
        "Setup"
      ],
      "metadata": {
        "id": "_RJNtESpVNkd"
      }
    },
    {
      "cell_type": "code",
      "execution_count": 1,
      "metadata": {
        "id": "rExZlurQdD_3"
      },
      "outputs": [],
      "source": [
        "import requests\n",
        "import os\n",
        "import zipfile\n",
        "import shutil\n",
        "\n",
        "def download_large_file_from_google_drive(file_id, destination):\n",
        "    base_url = \"https://drive.google.com/uc?export=download\"\n",
        "\n",
        "    with requests.Session() as session:\n",
        "        response = session.get(base_url, params={'id': file_id}, stream=True)\n",
        "        for key, value in response.cookies.items():\n",
        "            if key.startswith('download_warning'):\n",
        "                confirm_token = value\n",
        "                break\n",
        "        else:\n",
        "            confirm_token = None\n",
        "\n",
        "        if confirm_token:\n",
        "            params = {'id': file_id, 'confirm': confirm_token}\n",
        "            response = session.get(base_url, params=params, stream=True)\n",
        "\n",
        "        # Escrever o conteúdo do arquivo no destino\n",
        "        with open(destination, 'wb') as f:\n",
        "            for chunk in response.iter_content(32768):\n",
        "                f.write(chunk)\n",
        "\n",
        "download_large_file_from_google_drive('1j5ZM-csz4Ue6xBJPcztfJ-z7Fc6eu82n', 'homer_bart.zip')"
      ]
    },
    {
      "cell_type": "code",
      "source": [
        "if not os.path.exists('homer_bart'):\n",
        "    with zipfile.ZipFile('homer_bart.zip', 'r') as zip_ref:\n",
        "        zip_ref.extractall('homer_bart_temp')\n",
        "\n",
        "    os.remove('homer_bart.zip')\n",
        "    shutil.move('homer_bart_temp/homer_bart_1', 'homer_bart')\n",
        "    shutil.rmtree('homer_bart_temp')"
      ],
      "metadata": {
        "id": "ebsbMjwUTiAK"
      },
      "execution_count": 2,
      "outputs": []
    },
    {
      "cell_type": "markdown",
      "source": [
        "Bibliotecas e pré-processamento"
      ],
      "metadata": {
        "id": "_ka_wUKdSsRO"
      }
    },
    {
      "cell_type": "code",
      "source": [
        "import pandas as pd\n",
        "import numpy as np\n",
        "import cv2\n",
        "import tensorflow as tf\n",
        "from google.colab.patches import cv2_imshow\n",
        "import seaborn as sns\n",
        "import matplotlib.pyplot as plt"
      ],
      "metadata": {
        "id": "mLXofGxqSra6"
      },
      "execution_count": 3,
      "outputs": []
    },
    {
      "cell_type": "code",
      "source": [
        "diretorio_imagens = './homer_bart/'\n",
        "arquivos = [os.path.join(diretorio_imagens, x) for x in sorted(os.listdir(diretorio_imagens))]"
      ],
      "metadata": {
        "id": "XR2iOYyDS34X"
      },
      "execution_count": 4,
      "outputs": []
    },
    {
      "cell_type": "code",
      "source": [
        "largura, altura = 128, 128"
      ],
      "metadata": {
        "id": "MGaoX1JCUzVm"
      },
      "execution_count": 5,
      "outputs": []
    },
    {
      "cell_type": "code",
      "source": [
        "images = []\n",
        "classes = []\n",
        "\n",
        "for image_caminho in arquivos:\n",
        "    try:\n",
        "        imagem = cv2.imread(image_caminho)\n",
        "        (H, W) = imagem.shape[:2]\n",
        "    except:\n",
        "      continue\n",
        "\n",
        "    imagem = cv2.resize(imagem, (largura, altura))\n",
        "    imagem = cv2.cvtColor(imagem, cv2.COLOR_BGR2GRAY)\n",
        "    imagem = imagem.ravel()\n",
        "    images.append(imagem)\n",
        "\n",
        "    classe = os.path.basename(image_caminho)\n",
        "    classe = 0 if classe.startswith('bart') else 1\n",
        "    classes.append(classe)"
      ],
      "metadata": {
        "id": "CHvM-v_wVXTH"
      },
      "execution_count": 6,
      "outputs": []
    },
    {
      "cell_type": "code",
      "source": [
        "X = np.array(images)\n",
        "y = np.array(classes)"
      ],
      "metadata": {
        "id": "P0nopH6Lalas"
      },
      "execution_count": 7,
      "outputs": []
    },
    {
      "cell_type": "code",
      "source": [
        "print(X.shape)\n",
        "print(y.shape)"
      ],
      "metadata": {
        "colab": {
          "base_uri": "https://localhost:8080/"
        },
        "id": "gPp4cVQLbGhu",
        "outputId": "13ffdc43-47da-4b87-c213-33671d3e538d"
      },
      "execution_count": 8,
      "outputs": [
        {
          "output_type": "stream",
          "name": "stdout",
          "text": [
            "(269, 16384)\n",
            "(269,)\n"
          ]
        }
      ]
    },
    {
      "cell_type": "code",
      "source": [
        "np.unique(y, return_counts=True)"
      ],
      "metadata": {
        "colab": {
          "base_uri": "https://localhost:8080/"
        },
        "id": "E0q7ILl_cBa8",
        "outputId": "78af2bd8-479a-4c68-fab7-bdcb632beeb2"
      },
      "execution_count": 10,
      "outputs": [
        {
          "output_type": "execute_result",
          "data": {
            "text/plain": [
              "(array([0, 1]), array([160, 109]))"
            ]
          },
          "metadata": {},
          "execution_count": 10
        }
      ]
    },
    {
      "cell_type": "markdown",
      "source": [
        "Normalizacao"
      ],
      "metadata": {
        "id": "F7T-O1pocHNe"
      }
    }
  ]
}